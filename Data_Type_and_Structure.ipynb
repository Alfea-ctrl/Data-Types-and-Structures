{
  "nbformat": 4,
  "nbformat_minor": 0,
  "metadata": {
    "colab": {
      "provenance": []
    },
    "kernelspec": {
      "name": "python3",
      "display_name": "Python 3"
    },
    "language_info": {
      "name": "python"
    }
  },
  "cells": [
    {
      "cell_type": "markdown",
      "source": [],
      "metadata": {
        "id": "1TPJSRnQORqA"
      }
    },
    {
      "cell_type": "markdown",
      "source": [
        "# Data types and Structures"
      ],
      "metadata": {
        "id": "jof-X5FoOTEI"
      }
    },
    {
      "cell_type": "markdown",
      "source": [
        "1- What are data structures, and why are they important?\n",
        "   - Data structures are ways to organize and store data efficiently. They help me write code that is clean, fast, and easy to manage, especially when dealing with large data like for UPSC datasets or analytics.\n",
        "\n",
        "2 - Explain the difference between mutable and immutable data types with examples.\n",
        "  - Mutable means changeable. E.g., lists are mutable ([1, 2] → [1, 3]). Immutable means unchangeable. E.g., strings (\"hello\" can't become \"hallo\" without creating a new one).\n",
        "\n",
        "3 - What  are the main differences between lists and tuples in Python?\n",
        "   - Lists are mutable, slow, and written as [ ]. Tuples are immutable, faster, and written as ( ). I use tuples when I don’t want the data to change.\n",
        "\n",
        "4 - Describe how dictionaries store data.\n",
        "  - Dictionaries store data as key-value pairs like {“name”: “Alfiya”}. It’s like labeling drawers and putting info inside them .\n",
        "\n",
        "5- Why might you use a set instead of a list in Python?\n",
        " - Sets don’t allow duplicates and are faster for searching. I use them when I want unique items only, like unique roll numbers.\n",
        "\n",
        "6 - What is a string in Python, and how is it different from a list?\n",
        " - A string is a sequence of characters (\"PWSKILLS\"). It's immutable. A list can store many data types and can be changed. Strings = text, Lists = mixed bag.\n",
        "\n",
        "7 - How do tuples ensure data integrity in Python?\n",
        " - Tuples are immutable. Once I create a tuple, its data can’t be changed, which helps in keeping original data safe.\n",
        "\n",
        "8 - What is a hash table, and how does it relate to dictionaries in Python?\n",
        " - A hash table is a data structure that uses a hash function to map keys to values. Python dictionaries use it internally for fast access.\n",
        "\n",
        "8 -  Can lists contain different data types in Python?\n",
        " - Yes! Lists can store numbers, strings, other lists – anything. Like my study checklist: [“Python”, 2, [“Ethics”].\n",
        "\n",
        "9 - Explain why strings are immutable in Python.\n",
        " - Strings are immutable to make them memory efficient and safe during operations like hashing (used in dictionaries).\n",
        "\n",
        "10 - What advantages do dictionaries offer over lists for certain tasks?\n",
        " - Dictionaries are faster for lookups using keys. Instead of checking through a list, I can go directly to the value using the key.\n",
        "\n",
        "11 - Describe a scenario where using a tuple would be preferable over a list.\n",
        " - When I have a fixed set of items like days of the week or coordinates, I use a tuple. It prevents accidental changes.\n",
        "\n",
        "12 - How do sets handle duplicate values in Python?\n",
        " - Sets automatically remove duplicates. {1, 2, 2, 3} becomes {1, 2, 3}. Super useful when cleaning data!\n",
        "\n",
        "13 - How does the “in” keyword work differently for lists and dictionaries?\n",
        " - In lists: checks for a value → 3 in [1,2,3]\n",
        "In dictionaries: checks for a key → \"name\" in {\"name\": \"Alfiya\"}\n",
        "\n",
        "14 - Can you modify the elements of a tuple? Explain why or why not.\n",
        "  -No ,  Tuples are immutable. You can't change elements after creation. It's like a sealed envelope.\n",
        "\n",
        "16 - What is a nested dictionary, and give an example of its use case?\n",
        " - A dictionary inside another dictionary.\n",
        "Example:\n",
        "\n",
        "python\n",
        "Copy\n",
        "coding\n",
        "student = {\"name\": \"Alfiya\", \"marks\": {\"Math\": 90, \"Eco\": 95}}\n",
        "Use case: Storing complex data like student records or  marks.\n",
        "\n",
        "17 - Describe the time complexity of accessing elements in a dictionary.\n",
        " - Average case is O(1) – constant time. Very fast because of hash tables.\n",
        "\n",
        "18 - In what situations are lists preferred over dictionaries?\n",
        " - When I care about order or need to store items without a label/key. Like storing a list of topics to revise.\n",
        "\n",
        "19- Why are dictionaries considered unordered, and how does that affect data retrieval?\n",
        " - Before Python 3.7, dictionaries didn’t preserve insertion order. Even now, order shouldn’t be relied upon. We access data via keys, not position.\n",
        "\n",
        "20  - Explain the difference between a list and a dictionary in terms of data retrieval.\n",
        "\n",
        "List: retrieve by index → list[0]\n",
        "\n",
        "Dictionary: retrieve by key → dict[\"name\"]\n",
        "Dicts are faster and more meaningful when I know the key.\n",
        "\n"
      ],
      "metadata": {
        "id": "2LIinOnnPEaI"
      }
    },
    {
      "cell_type": "code",
      "source": [
        "\n"
      ],
      "metadata": {
        "id": "zB25hGMkSg_a"
      },
      "execution_count": null,
      "outputs": []
    },
    {
      "cell_type": "code",
      "source": [
        "#1 Create a string and print it\n",
        "\n",
        "my_string = \"Hello Alfiya\"\n",
        "print(my_string)\n"
      ],
      "metadata": {
        "colab": {
          "base_uri": "https://localhost:8080/"
        },
        "id": "EcTNhIaeTAB4",
        "outputId": "32234069-8513-4f48-b8ef-e75e6d9317fa"
      },
      "execution_count": 1,
      "outputs": [
        {
          "output_type": "stream",
          "name": "stdout",
          "text": [
            "Hello Alfiya\n"
          ]
        }
      ]
    },
    {
      "cell_type": "code",
      "source": [
        "# 2. Write a code to find the length of the string \"Hello World\".\n",
        "print(len(\"Hello World\"))\n"
      ],
      "metadata": {
        "colab": {
          "base_uri": "https://localhost:8080/"
        },
        "id": "gs4wSP_CTfQp",
        "outputId": "5f8cfd8b-cfe5-4dce-8d9d-ee3e39eb495f"
      },
      "execution_count": 2,
      "outputs": [
        {
          "output_type": "stream",
          "name": "stdout",
          "text": [
            "11\n"
          ]
        }
      ]
    },
    {
      "cell_type": "code",
      "source": [
        "# 3. Write a code to slice the first 3 characters from the string \"Python Programming\".\n",
        "text = \"Python Programming\"\n",
        "print(text[:3])\n"
      ],
      "metadata": {
        "colab": {
          "base_uri": "https://localhost:8080/"
        },
        "id": "ZBXsG8N6Ttz0",
        "outputId": "1e401e8b-4d31-4128-dcc3-3effbb594b71"
      },
      "execution_count": 3,
      "outputs": [
        {
          "output_type": "stream",
          "name": "stdout",
          "text": [
            "Pyt\n"
          ]
        }
      ]
    },
    {
      "cell_type": "code",
      "source": [
        "# 4. Write a code to convert the string \"hello\" to uppercase.\n",
        "word = \"hello\"\n",
        "print(word.upper())\n"
      ],
      "metadata": {
        "colab": {
          "base_uri": "https://localhost:8080/"
        },
        "id": "yqIvblwWTyib",
        "outputId": "15796616-bc55-498b-dd25-9e2f02ac874a"
      },
      "execution_count": 4,
      "outputs": [
        {
          "output_type": "stream",
          "name": "stdout",
          "text": [
            "HELLO\n"
          ]
        }
      ]
    },
    {
      "cell_type": "code",
      "source": [
        "# 5. Write a code to replace the word \"apple\" with \"orange\" in the string \"I like apple\".\n",
        "sentence = \"I like apple\"\n",
        "print(sentence.replace(\"apple\", \"orange\"))\n"
      ],
      "metadata": {
        "colab": {
          "base_uri": "https://localhost:8080/"
        },
        "id": "MseRKMUnT1SK",
        "outputId": "6bd1c6b8-2ac2-4447-ed7d-d7a485bcc76e"
      },
      "execution_count": 5,
      "outputs": [
        {
          "output_type": "stream",
          "name": "stdout",
          "text": [
            "I like orange\n"
          ]
        }
      ]
    },
    {
      "cell_type": "code",
      "source": [
        "# 6. Write a code to create a list with numbers 1 to 5 and print it.\n",
        "numbers = list(range(1, 6))\n",
        "print(numbers)\n"
      ],
      "metadata": {
        "colab": {
          "base_uri": "https://localhost:8080/"
        },
        "id": "HTDFYF5FT3IC",
        "outputId": "dbab4270-77b4-4769-9881-9d3c7099057c"
      },
      "execution_count": 6,
      "outputs": [
        {
          "output_type": "stream",
          "name": "stdout",
          "text": [
            "[1, 2, 3, 4, 5]\n"
          ]
        }
      ]
    },
    {
      "cell_type": "code",
      "source": [
        "# 7. Write a code to append the number 10 to the list [1, 2, 3, 4].\n",
        "my_list = [1, 2, 3, 4]\n",
        "my_list.append(10)\n",
        "print(my_list)\n"
      ],
      "metadata": {
        "colab": {
          "base_uri": "https://localhost:8080/"
        },
        "id": "4tgHanu3T6Wu",
        "outputId": "63b90875-e838-4b14-c9bf-cfc36b702b5d"
      },
      "execution_count": 7,
      "outputs": [
        {
          "output_type": "stream",
          "name": "stdout",
          "text": [
            "[1, 2, 3, 4, 10]\n"
          ]
        }
      ]
    },
    {
      "cell_type": "code",
      "source": [
        "# 8. Write a code to remove the number 3 from the list [1, 2, 3, 4, 5].\n",
        "my_list = [1, 2, 3, 4, 5]\n",
        "my_list.remove(3)\n",
        "print(my_list)\n"
      ],
      "metadata": {
        "colab": {
          "base_uri": "https://localhost:8080/"
        },
        "id": "-3dMItqXT8iC",
        "outputId": "9b231cc6-8d8d-46f5-bdf9-71402f360135"
      },
      "execution_count": 8,
      "outputs": [
        {
          "output_type": "stream",
          "name": "stdout",
          "text": [
            "[1, 2, 4, 5]\n"
          ]
        }
      ]
    },
    {
      "cell_type": "code",
      "source": [
        "# 9. Write a code to access the second element in the list ['a', 'b', 'c', 'd'].\n",
        "letters = ['a', 'b', 'c', 'd']\n",
        "print(letters[1])\n"
      ],
      "metadata": {
        "colab": {
          "base_uri": "https://localhost:8080/"
        },
        "id": "vDVhjSUyT-8o",
        "outputId": "7a513412-ab79-428e-ff89-1923f9457033"
      },
      "execution_count": 9,
      "outputs": [
        {
          "output_type": "stream",
          "name": "stdout",
          "text": [
            "b\n"
          ]
        }
      ]
    },
    {
      "cell_type": "code",
      "source": [
        "# 10. Write a code to reverse the list [10, 20, 30, 40, 50].\n",
        "my_list = [10, 20, 30, 40, 50]\n",
        "my_list.reverse()\n",
        "print(my_list)\n"
      ],
      "metadata": {
        "colab": {
          "base_uri": "https://localhost:8080/"
        },
        "id": "kLjbdKzAUBZq",
        "outputId": "1fa26e67-5d80-4b9b-ac89-808b2b3eee52"
      },
      "execution_count": 10,
      "outputs": [
        {
          "output_type": "stream",
          "name": "stdout",
          "text": [
            "[50, 40, 30, 20, 10]\n"
          ]
        }
      ]
    },
    {
      "cell_type": "code",
      "source": [
        "# 11. Write a code to create a tuple with the elements 100, 200, 300 and print it.\n",
        "my_tuple = (100, 200, 300)\n",
        "print(my_tuple)\n"
      ],
      "metadata": {
        "colab": {
          "base_uri": "https://localhost:8080/"
        },
        "id": "NsMSSaGDUD6h",
        "outputId": "b545d65b-05ec-4cd2-9718-7a4cc8c7f9de"
      },
      "execution_count": 11,
      "outputs": [
        {
          "output_type": "stream",
          "name": "stdout",
          "text": [
            "(100, 200, 300)\n"
          ]
        }
      ]
    },
    {
      "cell_type": "code",
      "source": [
        "# 12. Write a code to access the second-to-last element of the tuple ('red', 'green', 'blue', 'yellow').\n",
        "colors = ('red', 'green', 'blue', 'yellow')\n",
        "print(colors[-2])\n"
      ],
      "metadata": {
        "colab": {
          "base_uri": "https://localhost:8080/"
        },
        "id": "GSkUelCGULg5",
        "outputId": "a227c64d-d2b2-4284-f715-d39b113639f1"
      },
      "execution_count": 12,
      "outputs": [
        {
          "output_type": "stream",
          "name": "stdout",
          "text": [
            "blue\n"
          ]
        }
      ]
    },
    {
      "cell_type": "code",
      "source": [
        "# 13. Write a code to find the minimum number in the tuple (10, 20, 5, 18).\n",
        "numbers = (10, 20, 5, 18)\n",
        "print(min(numbers))\n"
      ],
      "metadata": {
        "colab": {
          "base_uri": "https://localhost:8080/"
        },
        "id": "nL6Ux0U9UNqr",
        "outputId": "432716e7-2c66-4f3f-f7d5-a204f077789d"
      },
      "execution_count": 13,
      "outputs": [
        {
          "output_type": "stream",
          "name": "stdout",
          "text": [
            "5\n"
          ]
        }
      ]
    },
    {
      "cell_type": "code",
      "source": [
        "# 14. Write a code to find the index of the element \"cat\" in the tuple ('dog', 'cat', 'rabbit').\n",
        "animals = ('dog', 'cat', 'rabbit')\n",
        "print(animals.index(\"cat\"))\n"
      ],
      "metadata": {
        "colab": {
          "base_uri": "https://localhost:8080/"
        },
        "id": "TNwB_leqUPwv",
        "outputId": "3c54b68c-c0db-4f6c-a191-30f5ced6967b"
      },
      "execution_count": 14,
      "outputs": [
        {
          "output_type": "stream",
          "name": "stdout",
          "text": [
            "1\n"
          ]
        }
      ]
    },
    {
      "cell_type": "code",
      "source": [
        "# 15. Write a code to create a tuple containing three different fruits and check if \"kiwi\" is in it.\n",
        "fruits = ('apple', 'banana', 'kiwi')\n",
        "print(\"kiwi\" in fruits)\n"
      ],
      "metadata": {
        "colab": {
          "base_uri": "https://localhost:8080/"
        },
        "id": "03UvGq5dUR4Z",
        "outputId": "ee14260a-2340-4934-e07b-40f79a9c0e96"
      },
      "execution_count": 15,
      "outputs": [
        {
          "output_type": "stream",
          "name": "stdout",
          "text": [
            "True\n"
          ]
        }
      ]
    },
    {
      "cell_type": "code",
      "source": [
        "# 16. Write a code to create a set with elements {1, 2, 3, 6} and print it.\n",
        "my_set = {1, 2, 3, 6}\n",
        "print(my_set)\n"
      ],
      "metadata": {
        "colab": {
          "base_uri": "https://localhost:8080/"
        },
        "id": "RCD5901NUXNt",
        "outputId": "b81e7012-6f53-4da9-be76-859ef1878adb"
      },
      "execution_count": 16,
      "outputs": [
        {
          "output_type": "stream",
          "name": "stdout",
          "text": [
            "{1, 2, 3, 6}\n"
          ]
        }
      ]
    },
    {
      "cell_type": "code",
      "source": [
        "# 17. Write a code to clear all elements from the set {1, 2, 3, 4}.\n",
        "my_set = {1, 2, 3, 4}\n",
        "my_set.clear()\n",
        "print(my_set)\n"
      ],
      "metadata": {
        "colab": {
          "base_uri": "https://localhost:8080/"
        },
        "id": "dHh8MBV0UX_Y",
        "outputId": "54312433-2b4e-4585-c8f0-2cf03abfe7df"
      },
      "execution_count": 17,
      "outputs": [
        {
          "output_type": "stream",
          "name": "stdout",
          "text": [
            "set()\n"
          ]
        }
      ]
    },
    {
      "cell_type": "code",
      "source": [
        "# 18. Write a code to remove the element 2 from the set {1, 2, 3, 4}.\n",
        "my_set = {1, 2, 3, 4}\n",
        "my_set.remove(2)\n",
        "print(my_set)\n"
      ],
      "metadata": {
        "colab": {
          "base_uri": "https://localhost:8080/"
        },
        "id": "E8P3OvZZUZ8J",
        "outputId": "73bc515d-1e77-4619-adde-3bf1651d94ea"
      },
      "execution_count": 18,
      "outputs": [
        {
          "output_type": "stream",
          "name": "stdout",
          "text": [
            "{1, 3, 4}\n"
          ]
        }
      ]
    },
    {
      "cell_type": "code",
      "source": [
        "# 19. Write a code to find the union of two sets {1, 2, 3} and {3, 4, 5}.\n",
        "set1 = {1, 2, 3}\n",
        "set2 = {3, 4, 5}\n",
        "print(set1.union(set2))\n"
      ],
      "metadata": {
        "colab": {
          "base_uri": "https://localhost:8080/"
        },
        "id": "2d2ph459UcOF",
        "outputId": "93ae4498-1152-4e0b-a346-c2830e5f949e"
      },
      "execution_count": 19,
      "outputs": [
        {
          "output_type": "stream",
          "name": "stdout",
          "text": [
            "{1, 2, 3, 4, 5}\n"
          ]
        }
      ]
    },
    {
      "cell_type": "code",
      "source": [
        "# 20. Write a code to find the intersection of two sets {1, 2, 3} and {2, 3, 4}.\n",
        "set1 = {1, 2, 3}\n",
        "set2 = {2, 3, 4}\n",
        "print(set1.intersection(set2))\n"
      ],
      "metadata": {
        "colab": {
          "base_uri": "https://localhost:8080/"
        },
        "id": "DafHRqO6UfA0",
        "outputId": "d61703e8-1e06-4a45-b54e-af4766399104"
      },
      "execution_count": 20,
      "outputs": [
        {
          "output_type": "stream",
          "name": "stdout",
          "text": [
            "{2, 3}\n"
          ]
        }
      ]
    },
    {
      "cell_type": "code",
      "source": [
        "# 21. Write a code to create a dictionary with the keys \"name\", \"age\" and \"city\", and print it.\n",
        "my_dict = {\"name\": \"Alfiya\", \"age\": 19, \"city\": \"Jaipur\"}\n",
        "print(my_dict)\n"
      ],
      "metadata": {
        "colab": {
          "base_uri": "https://localhost:8080/"
        },
        "id": "fs6NU7SfUhQW",
        "outputId": "73939767-22b8-414e-8a95-8f2cbf785aa2"
      },
      "execution_count": 21,
      "outputs": [
        {
          "output_type": "stream",
          "name": "stdout",
          "text": [
            "{'name': 'Alfiya', 'age': 19, 'city': 'Jaipur'}\n"
          ]
        }
      ]
    },
    {
      "cell_type": "code",
      "source": [
        "# 22. Write a code to add a new key-value pair (\"country\": \"India\") to the dictionary.\n",
        "my_dict[\"country\"] = \"India\"\n",
        "print(my_dict)\n"
      ],
      "metadata": {
        "colab": {
          "base_uri": "https://localhost:8080/"
        },
        "id": "iAr33E5aUqoP",
        "outputId": "6f37c3c9-0328-4134-d866-b9597440e2e0"
      },
      "execution_count": 22,
      "outputs": [
        {
          "output_type": "stream",
          "name": "stdout",
          "text": [
            "{'name': 'Alfiya', 'age': 19, 'city': 'Jaipur', 'country': 'India'}\n"
          ]
        }
      ]
    },
    {
      "cell_type": "code",
      "source": [
        "# 23. Write a code to remove the key \"name\" from the dictionary {\"name\": \"John\", \"age\": 25}.\n",
        "my_dict = {\"name\": \"John\", \"age\": 25}\n",
        "my_dict.pop(\"name\")\n",
        "print(my_dict)\n"
      ],
      "metadata": {
        "colab": {
          "base_uri": "https://localhost:8080/"
        },
        "id": "lIEqVkcjUvNN",
        "outputId": "fe709d91-e236-4103-f041-b1d8fdb6f9c8"
      },
      "execution_count": 23,
      "outputs": [
        {
          "output_type": "stream",
          "name": "stdout",
          "text": [
            "{'age': 25}\n"
          ]
        }
      ]
    },
    {
      "cell_type": "code",
      "source": [
        "# 24. Write a code to access the value associated with the key \"name\" in the dictionary {\"name\": \"Alice\", \"age\": 30}.\n",
        "person = {\"name\": \"Alice\", \"age\": 30}\n",
        "print(person[\"name\"])\n"
      ],
      "metadata": {
        "colab": {
          "base_uri": "https://localhost:8080/"
        },
        "id": "KrS9630ZUyKJ",
        "outputId": "6b4a189b-4888-4c66-8411-28b852e80b07"
      },
      "execution_count": 24,
      "outputs": [
        {
          "output_type": "stream",
          "name": "stdout",
          "text": [
            "Alice\n"
          ]
        }
      ]
    },
    {
      "cell_type": "code",
      "source": [
        "# 25. Write a code to access the key \"age\" from the dictionary {\"name\": \"Bob\", \"age\": 22, \"city\": \"New York\"}.\n",
        "data = {\"name\": \"Bob\", \"age\": 22, \"city\": \"New York\"}\n",
        "print(data[\"age\"])\n",
        "\n",
        "\n",
        "\n"
      ],
      "metadata": {
        "colab": {
          "base_uri": "https://localhost:8080/"
        },
        "id": "KDerTfW2U3M6",
        "outputId": "8ae70e28-6f9f-44f4-bb0b-f08144bb1b16"
      },
      "execution_count": 27,
      "outputs": [
        {
          "output_type": "stream",
          "name": "stdout",
          "text": [
            "22\n"
          ]
        }
      ]
    },
    {
      "cell_type": "code",
      "source": [
        "# 26. Write a code to change the key \"city\" value in the dictionary {\"name\": \"Alfiya\", \"city\": \"Paris\"}.\n",
        "info = {\"name\": \"Alfiya\", \"city\": \"Paris\"}\n",
        "info[\"city\"] = \"Delhi\"\n",
        "print(info)\n"
      ],
      "metadata": {
        "colab": {
          "base_uri": "https://localhost:8080/"
        },
        "id": "37CQoSRFU_zF",
        "outputId": "436efb20-853f-4b0c-fb51-ba3b317a4dd3"
      },
      "execution_count": 28,
      "outputs": [
        {
          "output_type": "stream",
          "name": "stdout",
          "text": [
            "{'name': 'Alfiya', 'city': 'Delhi'}\n"
          ]
        }
      ]
    },
    {
      "cell_type": "code",
      "source": [
        "# 29. Write a code to create a list with strings and print the element at the third index.\n",
        "words = [\"upsc\", \"python\", \"data\", \"science\", \"Alfiya\"]\n",
        "print(words[3])\n"
      ],
      "metadata": {
        "colab": {
          "base_uri": "https://localhost:8080/"
        },
        "id": "ZbTrfSnKVR0A",
        "outputId": "54df3c0f-fe73-4353-e341-d339f473d203"
      },
      "execution_count": 29,
      "outputs": [
        {
          "output_type": "stream",
          "name": "stdout",
          "text": [
            "science\n"
          ]
        }
      ]
    },
    {
      "cell_type": "code",
      "source": [
        "# 30. Write a code to combine two dictionaries into one and print the result.\n",
        "dict1 = {\"a\": 1, \"b\": 2}\n",
        "dict2 = {\"c\": 3, \"d\": 4}\n",
        "combined = {**dict1, **dict2}\n",
        "print(combined)\n"
      ],
      "metadata": {
        "colab": {
          "base_uri": "https://localhost:8080/"
        },
        "id": "3JVmjL-JVW1D",
        "outputId": "e533de54-ba3e-4424-e0c3-b1e3f2d61824"
      },
      "execution_count": 30,
      "outputs": [
        {
          "output_type": "stream",
          "name": "stdout",
          "text": [
            "{'a': 1, 'b': 2, 'c': 3, 'd': 4}\n"
          ]
        }
      ]
    },
    {
      "cell_type": "code",
      "source": [],
      "metadata": {
        "id": "0okS4aAqVcVh"
      },
      "execution_count": null,
      "outputs": []
    }
  ]
}